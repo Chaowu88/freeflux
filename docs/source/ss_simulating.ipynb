{
 "cells": [
  {
   "cell_type": "markdown",
   "metadata": {},
   "source": [
    "# Simulating at Steady State"
   ]
  },
  {
   "cell_type": "markdown",
   "metadata": {},
   "source": [
    "Simulating the labeling pattern of metabolites at some flux distribution in a given network is the forward problem of metabolic flux analysis. We show here how FreeFlux does the work using the toy model."
   ]
  },
  {
   "cell_type": "markdown",
   "metadata": {},
   "source": [
    "First, we use method `set_target_EMUs` to specify the EMUs whose MDVs need to simualte, i.e., \"Glu_123\", \"Glu_12345\", \"AKG_23\" and \"Cit_12345\": "
   ]
  },
  {
   "cell_type": "code",
   "execution_count": 1,
   "metadata": {},
   "outputs": [],
   "source": [
    "from freeflux import Model\n",
    "\n",
    "MODEL_FILE = 'path/to/reactions.tsv'\n",
    "\n",
    "model = Model('demo')\n",
    "model.read_from_file(MODEL_FILE)\n",
    "\n",
    "sim = model.simulator('ss')\n",
    "sim.set_target_EMUs({'Glu': [[1,2,3], '12345'], \n",
    "                     'AKG': [2,3], \n",
    "                     'Cit': '12345'})"
   ]
  },
  {
   "cell_type": "markdown",
   "metadata": {},
   "source": [
    "Then we specify the labeling strategy. In the demo, the network is fed with 25% (mol%) C2 labeled acetyl-CoA AcCoA and 25% fully labeled acetyl-CoA both with 100% purity."
   ]
  },
  {
   "cell_type": "code",
   "execution_count": 2,
   "metadata": {},
   "outputs": [],
   "source": [
    "sim.set_labeling_strategy('AcCoA', labeling_pattern = ['01', '11'], percentage = [0.25, 0.25], purity = [1, 1])"
   ]
  },
  {
   "cell_type": "markdown",
   "metadata": {},
   "source": [
    "<div class=\"alert alert-info\">\n",
    "\n",
    "<b>Note:</b> <br></br> Use method for each labeled substrate. \n",
    "\n",
    "</div>"
   ]
  },
  {
   "cell_type": "markdown",
   "metadata": {},
   "source": [
    "One can use `set_flux` to input the priori flux distribution or use `set_fluxes_from_file` to read from a .tsv or .xslx [file](https://github.com/Chaowu88/freeflux/tree/main/models/toy)."
   ]
  },
  {
   "cell_type": "code",
   "execution_count": 3,
   "metadata": {},
   "outputs": [],
   "source": [
    "fluxes = {'v1': 10,\n",
    "          'v2': 10,\n",
    "          'v3': 5,\n",
    "          'v4': 5,\n",
    "          'v5': 5,\n",
    "          'v6_f': 12.5,   # \"_f\" denotes forward flux\n",
    "          'v6_b': 7.5,   # \"_b\" denotes backward flux\n",
    "          'v7': 5}\n",
    "for fluxid, value in fluxes.items():\n",
    "    sim.set_flux(fluxid, value)\n",
    "    \n",
    "# or \n",
    "FLUXES_FILE = 'path/to/fluxes.tsv'\n",
    "sim.set_fluxes_from_file(FLUXES_FILE)"
   ]
  },
  {
   "cell_type": "markdown",
   "metadata": {},
   "source": [
    "Labeling patterns will be simulated with the following commands:"
   ]
  },
  {
   "cell_type": "code",
   "execution_count": 4,
   "metadata": {},
   "outputs": [
    {
     "name": "stdout",
     "output_type": "stream",
     "text": [
      "simulated MDVs\n",
      "Glu_123: MDV([0.671, 0.21, 0.102, 0.017])\n",
      "Glu_12345: MDV([0.328, 0.276, 0.274, 0.088, 0.03, 0.004])\n",
      "AKG_23: MDV([0.693, 0.262, 0.044])\n",
      "Cit_12345: MDV([0.328, 0.276, 0.274, 0.088, 0.03, 0.004])\n"
     ]
    }
   ],
   "source": [
    "sim.prepare()\n",
    "res = sim.simulate()\n",
    "print(res)"
   ]
  },
  {
   "cell_type": "markdown",
   "metadata": {},
   "source": [
    "The work can also be handled using the `with` statement."
   ]
  },
  {
   "cell_type": "code",
   "execution_count": 5,
   "metadata": {},
   "outputs": [
    {
     "name": "stdout",
     "output_type": "stream",
     "text": [
      "simulated MDVs\n",
      "Glu_123: MDV([0.671, 0.21, 0.102, 0.017])\n",
      "Glu_12345: MDV([0.328, 0.276, 0.274, 0.088, 0.03, 0.004])\n",
      "AKG_23: MDV([0.693, 0.262, 0.044])\n",
      "Cit_12345: MDV([0.328, 0.276, 0.274, 0.088, 0.03, 0.004])\n"
     ]
    }
   ],
   "source": [
    "with model.simulator('ss') as sim:\n",
    "    sim.set_target_EMUs({'Glu': [[1,2,3], '12345'], \n",
    "                         'AKG': [2,3], \n",
    "                         'Cit': '12345'})\n",
    "    sim.set_labeling_strategy('AcCoA', labeling_pattern = ['01', '11'], \n",
    "                                       percentage = [0.25, 0.25], \n",
    "                                       purity = [1, 1])\n",
    "    sim.set_fluxes_from_file(FLUXES_FILE)\n",
    "    sim.prepare()\n",
    "    res = sim.simulate()\n",
    "print(res)"
   ]
  }
 ],
 "metadata": {
  "kernelspec": {
   "display_name": "test-freeflux",
   "language": "python",
   "name": "test-freeflux"
  },
  "language_info": {
   "codemirror_mode": {
    "name": "ipython",
    "version": 3
   },
   "file_extension": ".py",
   "mimetype": "text/x-python",
   "name": "python",
   "nbconvert_exporter": "python",
   "pygments_lexer": "ipython3",
   "version": "3.8.3"
  }
 },
 "nbformat": 4,
 "nbformat_minor": 4
}
