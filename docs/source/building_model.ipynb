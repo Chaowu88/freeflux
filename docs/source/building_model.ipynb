{
 "cells": [
  {
   "cell_type": "markdown",
   "metadata": {},
   "source": [
    "# Building a Model"
   ]
  },
  {
   "cell_type": "markdown",
   "metadata": {},
   "source": [
    "## Building with Metabolite and Reaction"
   ]
  },
  {
   "cell_type": "markdown",
   "metadata": {},
   "source": [
    "In this way, building a model starts from creating Metabolites and Reactions. Let's take the reaction OAA(abcd) + AcCoA(ef) $\\rightarrow$ Cit(dcbfea) in the toy model for example. Here we create the reactants: "
   ]
  },
  {
   "cell_type": "code",
   "execution_count": 1,
   "metadata": {},
   "outputs": [
    {
     "name": "stdout",
     "output_type": "stream",
     "text": [
      "Metabolite OAA(a,b,c,d)\n",
      "Metabolite AcCoA(d,f)\n",
      "Metabolite Cit(d,c,b,f,e,a)\n"
     ]
    }
   ],
   "source": [
    "from freeflux import Metabolite, Reaction, Model\n",
    "\n",
    "oaa = Metabolite('OAA', atoms = ['a', 'b', 'c', 'd'])\n",
    "accoa = Metabolite('AcCoA', atoms = ['d', 'f'])\n",
    "cit = Metabolite('Cit', atoms = list('dcbfea'))\n",
    "print(oaa)\n",
    "print(accoa)\n",
    "print(cit)"
   ]
  },
  {
   "cell_type": "markdown",
   "metadata": {},
   "source": [
    "<div class=\"alert alert-info\">\n",
    "\n",
    "<b>Note:</b> <br></br> Rotationally symmetric metabolites usually have <a href=\"https://www.ncbi.nlm.nih.gov/pmc/articles/PMC1994654/\">equivalents</a> in biochemical reactions, e.g., succinate and fumarate in the TCA cycle. In this case, the \"atoms\" argument in Metabolite constructor needs to be assigned as \"abcd,dcba\". \n",
    "\n",
    "</div>"
   ]
  },
  {
   "cell_type": "markdown",
   "metadata": {},
   "source": [
    "Then, we can build a reaction consuming and producing these metabolites:"
   ]
  },
  {
   "cell_type": "code",
   "execution_count": 2,
   "metadata": {},
   "outputs": [
    {
     "name": "stdout",
     "output_type": "stream",
     "text": [
      "Reaction v1: AcCoA+OAA->Cit\n"
     ]
    }
   ],
   "source": [
    "v1 = Reaction('v1', reversible = False)\n",
    "v1.add_substrates([oaa, accoa], stoichiometry = [1, 1])\n",
    "v1.add_products(cit, stoichiometry = 1)\n",
    "print(v1)"
   ]
  },
  {
   "cell_type": "markdown",
   "metadata": {},
   "source": [
    "and add this reaction into the model:"
   ]
  },
  {
   "cell_type": "code",
   "execution_count": 3,
   "metadata": {},
   "outputs": [
    {
     "name": "stdout",
     "output_type": "stream",
     "text": [
      "Model demo (3 metabolites, 1 reactions)\n",
      "Reaction v1: AcCoA+OAA->Cit\n"
     ]
    }
   ],
   "source": [
    "demo = Model('demo')\n",
    "demo.add_reactions([v1])\n",
    "print(demo)"
   ]
  },
  {
   "cell_type": "markdown",
   "metadata": {},
   "source": [
    "The process can be repeated until all reactions are involved."
   ]
  },
  {
   "cell_type": "markdown",
   "metadata": {},
   "source": [
    "To modify the mode, one can use `remove_substrates` and `remove_products` to delete reactants from a reaction, and `remove_reactions` to delate reactions from a model. "
   ]
  },
  {
   "cell_type": "markdown",
   "metadata": {},
   "source": [
    "## Reading from file"
   ]
  },
  {
   "cell_type": "markdown",
   "metadata": {},
   "source": [
    "To input a large-sized metabolic network, it is convenient to load from a file. A tab-separated values (.tsv) or Excel spreadsheet (.xlsx) file in the following format is supported."
   ]
  },
  {
   "cell_type": "markdown",
   "metadata": {},
   "source": [
    "|#reaction_ID|reactant_IDs(atom)|product_IDs(atom)|reversibility|\n",
    "|:------:|:------:|:------:|:------:|\n",
    "|v1|OAA(abcd)+AcCoA(ef)|Cit(dcbfea)|0|\n",
    "|v2|Cit(abcdef)|AKG(abcde)+CO2(f)|0|\n",
    "|v3|AKG(abcde)|Glu(abcde)|0|\n",
    "|v4|AKG(abcde)|Suc(bcde)+CO2(a)|0|\n",
    "|v5|Suc(abcd,dcba)|Fum(abcd,dcba)|0|\n",
    "|v6|Fum(abcd,dcba)|OAA(abcd)|1|\n",
    "|v7|Asp(abcd)|OAA(abcd)|0|"
   ]
  },
  {
   "cell_type": "markdown",
   "metadata": {},
   "source": [
    "<div class=\"alert alert-info\">\n",
    "\n",
    "<b>Note:</b> <br></br> 1. \"#\" is required in the header; <br></br> 2. Metabolite name could include but must not start with digits; <br></br> 3. Reactions with end metabolite, i.e., initial substrates and final products of the network (for example, substrate glucose and biomass) should be irreversible.\n",
    "\n",
    "</div>"
   ]
  },
  {
   "cell_type": "markdown",
   "metadata": {},
   "source": [
    "One can use the `read_from_file` method to load the model:"
   ]
  },
  {
   "cell_type": "code",
   "execution_count": 4,
   "metadata": {},
   "outputs": [
    {
     "name": "stdout",
     "output_type": "stream",
     "text": [
      "Model demo (9 metabolites, 7 reactions)\n",
      "Reaction v1: AcCoA+OAA->Cit\n",
      "Reaction v2: Cit->AKG+CO2\n",
      "Reaction v3: AKG->Glu\n",
      "Reaction v4: AKG->CO2+Suc\n",
      "Reaction v5: Suc->Fum\n",
      "Reaction v6: Fum<->OAA\n",
      "Reaction v7: Asp->OAA\n"
     ]
    }
   ],
   "source": [
    "MODEL_FILE = 'path/to/reactions.tsv'\n",
    "\n",
    "demo.read_from_file(MODEL_FILE)\n",
    "print(demo)"
   ]
  },
  {
   "cell_type": "markdown",
   "metadata": {},
   "source": [
    "The model file can be found [here](https://github.com/Chaowu88/freeflux/tree/main/models/toy)."
   ]
  },
  {
   "cell_type": "markdown",
   "metadata": {},
   "source": [
    "The metabolite and reaction information of a model can be accessed by attribute `metabolites_info` and `reactions_info`."
   ]
  },
  {
   "cell_type": "code",
   "execution_count": 5,
   "metadata": {},
   "outputs": [
    {
     "data": {
      "text/plain": [
       "{'OAA': [Metabolite OAA(abcd)],\n",
       " 'AcCoA': [Metabolite AcCoA(ef)],\n",
       " 'Cit': [Metabolite Cit(dcbfea), Metabolite Cit(abcdef)],\n",
       " 'AKG': [Metabolite AKG(abcde)],\n",
       " 'CO2': [Metabolite CO2(a), Metabolite CO2(f)],\n",
       " 'Glu': [Metabolite Glu(abcde)],\n",
       " 'Suc': [Metabolite Suc(bcde), Metabolite Suc(abcd,dcba)],\n",
       " 'Fum': [Metabolite Fum(abcd,dcba)],\n",
       " 'Asp': [Metabolite Asp(abcd)]}"
      ]
     },
     "execution_count": 5,
     "metadata": {},
     "output_type": "execute_result"
    }
   ],
   "source": [
    "demo.metabolites_info"
   ]
  },
  {
   "cell_type": "code",
   "execution_count": 6,
   "metadata": {},
   "outputs": [
    {
     "data": {
      "text/plain": [
       "OrderedDict([('v1', Reaction v1: AcCoA+OAA->Cit),\n",
       "             ('v2', Reaction v2: Cit->AKG+CO2),\n",
       "             ('v3', Reaction v3: AKG->Glu),\n",
       "             ('v4', Reaction v4: AKG->CO2+Suc),\n",
       "             ('v5', Reaction v5: Suc->Fum),\n",
       "             ('v6', Reaction v6: Fum<->OAA),\n",
       "             ('v7', Reaction v7: Asp->OAA)])"
      ]
     },
     "execution_count": 6,
     "metadata": {},
     "output_type": "execute_result"
    }
   ],
   "source": [
    "demo.reactions_info"
   ]
  },
  {
   "cell_type": "markdown",
   "metadata": {},
   "source": [
    "The stoichiometric matrix of the net reactions can be obtained by:"
   ]
  },
  {
   "cell_type": "code",
   "execution_count": 7,
   "metadata": {},
   "outputs": [
    {
     "data": {
      "text/html": [
       "<div>\n",
       "<style scoped>\n",
       "    .dataframe tbody tr th:only-of-type {\n",
       "        vertical-align: middle;\n",
       "    }\n",
       "\n",
       "    .dataframe tbody tr th {\n",
       "        vertical-align: top;\n",
       "    }\n",
       "\n",
       "    .dataframe thead th {\n",
       "        text-align: right;\n",
       "    }\n",
       "</style>\n",
       "<table border=\"1\" class=\"dataframe\">\n",
       "  <thead>\n",
       "    <tr style=\"text-align: right;\">\n",
       "      <th></th>\n",
       "      <th>v1</th>\n",
       "      <th>v2</th>\n",
       "      <th>v3</th>\n",
       "      <th>v4</th>\n",
       "      <th>v5</th>\n",
       "      <th>v6</th>\n",
       "      <th>v7</th>\n",
       "    </tr>\n",
       "  </thead>\n",
       "  <tbody>\n",
       "    <tr>\n",
       "      <th>AKG</th>\n",
       "      <td>0.0</td>\n",
       "      <td>1.0</td>\n",
       "      <td>-1.0</td>\n",
       "      <td>-1.0</td>\n",
       "      <td>0.0</td>\n",
       "      <td>0.0</td>\n",
       "      <td>0.0</td>\n",
       "    </tr>\n",
       "    <tr>\n",
       "      <th>Cit</th>\n",
       "      <td>1.0</td>\n",
       "      <td>-1.0</td>\n",
       "      <td>0.0</td>\n",
       "      <td>0.0</td>\n",
       "      <td>0.0</td>\n",
       "      <td>0.0</td>\n",
       "      <td>0.0</td>\n",
       "    </tr>\n",
       "    <tr>\n",
       "      <th>Fum</th>\n",
       "      <td>0.0</td>\n",
       "      <td>0.0</td>\n",
       "      <td>0.0</td>\n",
       "      <td>0.0</td>\n",
       "      <td>1.0</td>\n",
       "      <td>-1.0</td>\n",
       "      <td>0.0</td>\n",
       "    </tr>\n",
       "    <tr>\n",
       "      <th>OAA</th>\n",
       "      <td>-1.0</td>\n",
       "      <td>0.0</td>\n",
       "      <td>0.0</td>\n",
       "      <td>0.0</td>\n",
       "      <td>0.0</td>\n",
       "      <td>1.0</td>\n",
       "      <td>1.0</td>\n",
       "    </tr>\n",
       "    <tr>\n",
       "      <th>Suc</th>\n",
       "      <td>0.0</td>\n",
       "      <td>0.0</td>\n",
       "      <td>0.0</td>\n",
       "      <td>1.0</td>\n",
       "      <td>-1.0</td>\n",
       "      <td>0.0</td>\n",
       "      <td>0.0</td>\n",
       "    </tr>\n",
       "  </tbody>\n",
       "</table>\n",
       "</div>"
      ],
      "text/plain": [
       "      v1   v2   v3   v4   v5   v6   v7\n",
       "AKG  0.0  1.0 -1.0 -1.0  0.0  0.0  0.0\n",
       "Cit  1.0 -1.0  0.0  0.0  0.0  0.0  0.0\n",
       "Fum  0.0  0.0  0.0  0.0  1.0 -1.0  0.0\n",
       "OAA -1.0  0.0  0.0  0.0  0.0  1.0  1.0\n",
       "Suc  0.0  0.0  0.0  1.0 -1.0  0.0  0.0"
      ]
     },
     "execution_count": 7,
     "metadata": {},
     "output_type": "execute_result"
    }
   ],
   "source": [
    "demo.get_net_stoichiometric_matrix()"
   ]
  },
  {
   "cell_type": "markdown",
   "metadata": {},
   "source": [
    "We can also have the stoichiometric matrix of total reactions:"
   ]
  },
  {
   "cell_type": "code",
   "execution_count": 8,
   "metadata": {},
   "outputs": [
    {
     "data": {
      "text/html": [
       "<div>\n",
       "<style scoped>\n",
       "    .dataframe tbody tr th:only-of-type {\n",
       "        vertical-align: middle;\n",
       "    }\n",
       "\n",
       "    .dataframe tbody tr th {\n",
       "        vertical-align: top;\n",
       "    }\n",
       "\n",
       "    .dataframe thead th {\n",
       "        text-align: right;\n",
       "    }\n",
       "</style>\n",
       "<table border=\"1\" class=\"dataframe\">\n",
       "  <thead>\n",
       "    <tr style=\"text-align: right;\">\n",
       "      <th></th>\n",
       "      <th>v1</th>\n",
       "      <th>v2</th>\n",
       "      <th>v3</th>\n",
       "      <th>v4</th>\n",
       "      <th>v5</th>\n",
       "      <th>v6_f</th>\n",
       "      <th>v6_b</th>\n",
       "      <th>v7</th>\n",
       "    </tr>\n",
       "  </thead>\n",
       "  <tbody>\n",
       "    <tr>\n",
       "      <th>AKG</th>\n",
       "      <td>0.0</td>\n",
       "      <td>1.0</td>\n",
       "      <td>-1.0</td>\n",
       "      <td>-1.0</td>\n",
       "      <td>0.0</td>\n",
       "      <td>0.0</td>\n",
       "      <td>-0.0</td>\n",
       "      <td>0.0</td>\n",
       "    </tr>\n",
       "    <tr>\n",
       "      <th>Cit</th>\n",
       "      <td>1.0</td>\n",
       "      <td>-1.0</td>\n",
       "      <td>0.0</td>\n",
       "      <td>0.0</td>\n",
       "      <td>0.0</td>\n",
       "      <td>0.0</td>\n",
       "      <td>-0.0</td>\n",
       "      <td>0.0</td>\n",
       "    </tr>\n",
       "    <tr>\n",
       "      <th>Fum</th>\n",
       "      <td>0.0</td>\n",
       "      <td>0.0</td>\n",
       "      <td>0.0</td>\n",
       "      <td>0.0</td>\n",
       "      <td>1.0</td>\n",
       "      <td>-1.0</td>\n",
       "      <td>1.0</td>\n",
       "      <td>0.0</td>\n",
       "    </tr>\n",
       "    <tr>\n",
       "      <th>OAA</th>\n",
       "      <td>-1.0</td>\n",
       "      <td>0.0</td>\n",
       "      <td>0.0</td>\n",
       "      <td>0.0</td>\n",
       "      <td>0.0</td>\n",
       "      <td>1.0</td>\n",
       "      <td>-1.0</td>\n",
       "      <td>1.0</td>\n",
       "    </tr>\n",
       "    <tr>\n",
       "      <th>Suc</th>\n",
       "      <td>0.0</td>\n",
       "      <td>0.0</td>\n",
       "      <td>0.0</td>\n",
       "      <td>1.0</td>\n",
       "      <td>-1.0</td>\n",
       "      <td>0.0</td>\n",
       "      <td>-0.0</td>\n",
       "      <td>0.0</td>\n",
       "    </tr>\n",
       "  </tbody>\n",
       "</table>\n",
       "</div>"
      ],
      "text/plain": [
       "      v1   v2   v3   v4   v5  v6_f  v6_b   v7\n",
       "AKG  0.0  1.0 -1.0 -1.0  0.0   0.0  -0.0  0.0\n",
       "Cit  1.0 -1.0  0.0  0.0  0.0   0.0  -0.0  0.0\n",
       "Fum  0.0  0.0  0.0  0.0  1.0  -1.0   1.0  0.0\n",
       "OAA -1.0  0.0  0.0  0.0  0.0   1.0  -1.0  1.0\n",
       "Suc  0.0  0.0  0.0  1.0 -1.0   0.0  -0.0  0.0"
      ]
     },
     "execution_count": 8,
     "metadata": {},
     "output_type": "execute_result"
    }
   ],
   "source": [
    "demo.get_total_stoichiometric_matrix()"
   ]
  },
  {
   "cell_type": "markdown",
   "metadata": {},
   "source": [
    "## Model Decomposition\n"
   ]
  },
  {
   "cell_type": "markdown",
   "metadata": {},
   "source": [
    "Metabolic network carrying atom transfer information needs to be decomposed the estabolish the mapping between fluxes and labeling patterns of metabolite or, more precisely, the elementary metabolite unit [(EMU)](https://www.ncbi.nlm.nih.gov/pmc/articles/PMC1994654/). The network decomposition can be achieve by the [adjacency matrix enabled method](https://www.ncbi.nlm.nih.gov/pmc/articles/PMC6503117/) as previously proposed, which is implemented by the `decompose_network` function."
   ]
  },
  {
   "cell_type": "code",
   "execution_count": 9,
   "metadata": {
    "scrolled": false
   },
   "outputs": [],
   "source": [
    "emu_mats = demo.decompose_network(ini_emus = {'Glu': ['12345']})   # define target EMU Glu_12345"
   ]
  },
  {
   "cell_type": "markdown",
   "metadata": {},
   "source": [
    "The function returns a dictionary of the decomposed EMU networks with the size as the key."
   ]
  },
  {
   "cell_type": "markdown",
   "metadata": {},
   "source": [
    "<div class=\"alert alert-info\">\n",
    "\n",
    "<b>Note:</b> <br></br> `decompose_network` can run with parallel jobs for multiple target EMUs by specifing the \"n_jobs\" argument. \n",
    "\n",
    "</div>"
   ]
  },
  {
   "cell_type": "code",
   "execution_count": 10,
   "metadata": {},
   "outputs": [
    {
     "data": {
      "text/html": [
       "<div>\n",
       "<style scoped>\n",
       "    .dataframe tbody tr th:only-of-type {\n",
       "        vertical-align: middle;\n",
       "    }\n",
       "\n",
       "    .dataframe tbody tr th {\n",
       "        vertical-align: top;\n",
       "    }\n",
       "\n",
       "    .dataframe thead th {\n",
       "        text-align: right;\n",
       "    }\n",
       "</style>\n",
       "<table border=\"1\" class=\"dataframe\">\n",
       "  <thead>\n",
       "    <tr style=\"text-align: right;\">\n",
       "      <th></th>\n",
       "      <th>EMU Fum_2</th>\n",
       "      <th>EMU OAA_2</th>\n",
       "      <th>EMU OAA_3</th>\n",
       "    </tr>\n",
       "  </thead>\n",
       "  <tbody>\n",
       "    <tr>\n",
       "      <th>EMU Fum_2</th>\n",
       "      <td>0</td>\n",
       "      <td>1.0*v6_f</td>\n",
       "      <td>1.0*v6_f</td>\n",
       "    </tr>\n",
       "    <tr>\n",
       "      <th>EMU OAA_2</th>\n",
       "      <td>0.5*v5 + 0.5*v6_b</td>\n",
       "      <td>0</td>\n",
       "      <td>0</td>\n",
       "    </tr>\n",
       "    <tr>\n",
       "      <th>EMU OAA_3</th>\n",
       "      <td>0.5*v6_b</td>\n",
       "      <td>0</td>\n",
       "      <td>0</td>\n",
       "    </tr>\n",
       "    <tr>\n",
       "      <th>EMU AcCoA_2</th>\n",
       "      <td>0.5*v5</td>\n",
       "      <td>0</td>\n",
       "      <td>0</td>\n",
       "    </tr>\n",
       "    <tr>\n",
       "      <th>EMU Asp_2</th>\n",
       "      <td>0</td>\n",
       "      <td>1.0*v7</td>\n",
       "      <td>0</td>\n",
       "    </tr>\n",
       "    <tr>\n",
       "      <th>EMU Asp_3</th>\n",
       "      <td>0</td>\n",
       "      <td>0</td>\n",
       "      <td>1.0*v7</td>\n",
       "    </tr>\n",
       "  </tbody>\n",
       "</table>\n",
       "</div>"
      ],
      "text/plain": [
       "                     EMU Fum_2 EMU OAA_2 EMU OAA_3\n",
       "EMU Fum_2                    0  1.0*v6_f  1.0*v6_f\n",
       "EMU OAA_2    0.5*v5 + 0.5*v6_b         0         0\n",
       "EMU OAA_3             0.5*v6_b         0         0\n",
       "EMU AcCoA_2             0.5*v5         0         0\n",
       "EMU Asp_2                    0    1.0*v7         0\n",
       "EMU Asp_3                    0         0    1.0*v7"
      ]
     },
     "execution_count": 10,
     "metadata": {},
     "output_type": "execute_result"
    }
   ],
   "source": [
    "emu_mats[1]"
   ]
  },
  {
   "cell_type": "markdown",
   "metadata": {},
   "source": [
    "This EMU adjacency matrix shows the transformation of size-1 EMUs bridged by reactions, e.g., EMU OAA_2 comes from precursor EMU Fum_2 through v6_f and substrate EMU Asp_2 through v7. By the decompostion, the labeling pattern of any target EMU(s) can be traced back to the initial labeled or unlabeled substrate(s)."
   ]
  }
 ],
 "metadata": {
  "kernelspec": {
   "display_name": "test-freeflux",
   "language": "python",
   "name": "test-freeflux"
  },
  "language_info": {
   "codemirror_mode": {
    "name": "ipython",
    "version": 3
   },
   "file_extension": ".py",
   "mimetype": "text/x-python",
   "name": "python",
   "nbconvert_exporter": "python",
   "pygments_lexer": "ipython3",
   "version": "3.8.3"
  }
 },
 "nbformat": 4,
 "nbformat_minor": 4
}
