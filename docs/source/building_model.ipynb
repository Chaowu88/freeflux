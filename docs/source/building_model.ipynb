{
 "cells": [
  {
   "cell_type": "markdown",
   "metadata": {},
   "source": [
    "# Building a Model"
   ]
  },
  {
   "cell_type": "markdown",
   "metadata": {},
   "source": [
    "## Building with Metabolite and Reaction"
   ]
  },
  {
   "cell_type": "markdown",
   "metadata": {},
   "source": [
    "Let's take the reaction OAA(abcd) + AcCoA(ef) $\\rightarrow$ Cit(dcbfea) in the toy model for example. First, we creat the reactants: "
   ]
  },
  {
   "cell_type": "code",
   "execution_count": 5,
   "metadata": {},
   "outputs": [
    {
     "name": "stdout",
     "output_type": "stream",
     "text": [
      "Metabolite OAA(a,b,c,d)\n",
      "Metabolite AcCoA(d,f)\n",
      "Metabolite Cit(d,c,b,f,e,a)\n"
     ]
    }
   ],
   "source": [
    "from freeflux import Metabolite\n",
    "\n",
    "oaa = Metabolite('OAA', atoms = ['a', 'b', 'c', 'd'])\n",
    "accoa = Metabolite('AcCoA', atoms = ['d', 'f'])\n",
    "cit = Metabolite('Cit', atoms = list('dcbfea'))\n",
    "print(oaa)\n",
    "print(accoa)\n",
    "print(cit)"
   ]
  },
  {
   "cell_type": "markdown",
   "metadata": {},
   "source": [
    "**Note**\n",
    "\n",
    "Rotationally symmetric metabolites usually lead to [equivalents](https://www.ncbi.nlm.nih.gov/pmc/articles/PMC1994654/) in biochemical reactions, e.g., succinate and fumarate in the TCA cycle. In this case, the \"atoms\" needs to be assigned as \"abcd,dcba\"."
   ]
  },
  {
   "cell_type": "markdown",
   "metadata": {},
   "source": [
    "<div class=\"alert alert-block alert-info\">\n",
    "<b>Tip:</b> Rotationally symmetric metabolites usually lead to [equivalents](https://www.ncbi.nlm.nih.gov/pmc/articles/PMC1994654/) in biochemical reactions, e.g., succinate and fumarate in the TCA cycle. In this case, the \"atoms\" needs to be assigned as \"abcd,dcba\" </div>"
   ]
  },
  {
   "cell_type": "markdown",
   "metadata": {},
   "source": [
    "## Reading from file"
   ]
  },
  {
   "cell_type": "code",
   "execution_count": null,
   "metadata": {},
   "outputs": [],
   "source": []
  },
  {
   "cell_type": "code",
   "execution_count": null,
   "metadata": {},
   "outputs": [],
   "source": []
  }
 ],
 "metadata": {
  "kernelspec": {
   "display_name": "test-freeflux",
   "language": "python",
   "name": "test-freeflux"
  },
  "language_info": {
   "codemirror_mode": {
    "name": "ipython",
    "version": 3
   },
   "file_extension": ".py",
   "mimetype": "text/x-python",
   "name": "python",
   "nbconvert_exporter": "python",
   "pygments_lexer": "ipython3",
   "version": "3.8.3"
  }
 },
 "nbformat": 4,
 "nbformat_minor": 4
}
