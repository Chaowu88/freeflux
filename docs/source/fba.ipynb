{
 "cells": [
  {
   "cell_type": "markdown",
   "metadata": {},
   "source": [
    "# Flux Balance Analysis"
   ]
  },
  {
   "cell_type": "markdown",
   "metadata": {},
   "source": [
    "## FBA"
   ]
  },
  {
   "cell_type": "markdown",
   "metadata": {},
   "source": [
    "FreeFlux is capable of solving the canonical [flux balance analysis](https://www.ncbi.nlm.nih.gov/pmc/articles/PMC3108565/) (FBA) problem, which is defined as:\n",
    "\n",
    "\\begin{aligned}\n",
    "\\max \\quad & {{\\bf{c}}^T} \\cdot {\\bf{v}}\\\\\n",
    "s.t. \\quad & {\\bf{S}} \\cdot {\\bf{v}} = {\\bf{0}}\\\\\n",
    "&{{\\bf{v}}_{lb}} \\le {\\bf{v}} \\le {{\\bf{v}}_{ub}}\\\\\n",
    "\\end{aligned}\n",
    "\n",
    "where ${\\bf{S}}$ is the stoichiometric matrix, and ${\\bf{v}}$ is the flux vector bounded by ${{\\bf{v}}_{lb}}$ and ${{\\bf{v}}_{ub}}$. The objective function could be the linear combination of fluxes, and usually biomass formation is used."
   ]
  },
  {
   "cell_type": "markdown",
   "metadata": {},
   "source": [
    "Here we use the *E. coli* network for example. The model file can be found [here](https://github.com/Chaowu88/freeflux/tree/main/models/ecoli)."
   ]
  },
  {
   "cell_type": "code",
   "execution_count": 1,
   "metadata": {
    "scrolled": true
   },
   "outputs": [
    {
     "name": "stdout",
     "output_type": "stream",
     "text": [
      "\n",
      "optimizing [elapsed: 0:00:01]\n",
      "\n",
      "1.237\n",
      "pgi 9.74646920121454\n",
      "pfk 8.76944807419173\n",
      "fba 8.76944807419176\n",
      "tpi 8.76944807419176\n",
      "gapdh 16.7783037520293\n",
      "eno 14.6245286979626\n",
      "pk 10.8080928072441\n"
     ]
    }
   ],
   "source": [
    "from freeflux import Model\n",
    "\n",
    "MODEL_FILE = 'path/to/reactions.xlsx'\n",
    "\n",
    "model = Model('ecoli')\n",
    "model.read_from_file(MODEL_FILE)\n",
    "\n",
    "with model.optimizer() as opt:\n",
    "    # set bounds for fluxes\n",
    "    opt.set_flux_bounds('all', bounds = [-100, 100]) \n",
    "    opt.set_flux_bounds('glk', bounds = [10, 10])\n",
    "\n",
    "    # solve the FBA problem\n",
    "    opt.prepare()\n",
    "    res = opt.optimize(objective = {'biom': 1})\n",
    "print(res.opt_objective)\n",
    "\n",
    "glycolysis_enzymes = ['pgi', 'pfk','fba', 'tpi', 'gapdh', 'eno', 'pk']\n",
    "for enzyme in glycolysis_enzymes:\n",
    "    print(enzyme, res.opt_fluxes[enzyme])"
   ]
  },
  {
   "cell_type": "markdown",
   "metadata": {},
   "source": [
    "## FVA"
   ]
  },
  {
   "cell_type": "markdown",
   "metadata": {},
   "source": [
    "[flux variable analysis](https://pubmed.ncbi.nlm.nih.gov/20920235/) (FVA) is used to find the minimum and maximum of a flux while maintaining objective above some fraction of its optimized value in the original FBA problem. The problem is formulated as: \n",
    "\n",
    "\\begin{aligned}\n",
    "\\max/min \\quad & {\\rm{ }}{v_i}\\\\\n",
    "s.t. \\quad & {\\bf{S}} \\cdot {\\bf{v}} = {\\bf{0}}\\\\\n",
    "&{{\\bf{c}}^T} \\cdot {\\bf{v}} \\ge \\gamma  \\cdot ob{j_{FBA}}\\\\\n",
    "&{{\\bf{v}}_{lb}} \\le {\\bf{v}} \\le {{\\bf{v}}_{ub}}\\\\\n",
    "\\end{aligned}\n",
    "\n",
    "where $\\gamma$ controls how close the FBA objective should be to its optiaml value $ob{j_{FBA}}$. "
   ]
  },
  {
   "cell_type": "markdown",
   "metadata": {},
   "source": [
    "FreeFlux includes FVA because it can provide a reasonable feasible space for fluxes and initial guesses sampled from it during the least squares optimzation. As an example, the flux ranges of the *E. coli* model can be estimated using the following lines:"
   ]
  },
  {
   "cell_type": "code",
   "execution_count": 2,
   "metadata": {},
   "outputs": [
    {
     "name": "stdout",
     "output_type": "stream",
     "text": [
      "\n",
      "estimating flux ranges [elapsed: 0:00:08]\n",
      "\n",
      "pgi [-18.9459449212001, 9.99999999999999]\n",
      "pfk [0.0, 10.0000000000007]\n",
      "fba [0.0, 10.0000000000007]\n",
      "tpi [0.0, 10.0000000000007]\n",
      "gapdh [8.054955585922, 20.0000000000015]\n",
      "eno [5.95104574299147, 20.0000000000016]\n",
      "pk [0.0, 26.4203047242819]\n"
     ]
    }
   ],
   "source": [
    "with model.optimizer() as opt:\n",
    "    # set bounds for fluxes\n",
    "    opt.set_flux_bounds('all', bounds = [-100, 100]) \n",
    "    opt.set_flux_bounds('glk', bounds = [10, 10])\n",
    "\n",
    "    # estimate flux ranges\n",
    "    opt.prepare()\n",
    "    res = opt.estimate_fluxes_range(objective = {'biom': 1}, gamma = 0)\n",
    "\n",
    "for enzyme in glycolysis_enzymes:\n",
    "    print(enzyme, res.flux_ranges[enzyme])"
   ]
  }
 ],
 "metadata": {
  "kernelspec": {
   "display_name": "test-freeflux",
   "language": "python",
   "name": "test-freeflux"
  },
  "language_info": {
   "codemirror_mode": {
    "name": "ipython",
    "version": 3
   },
   "file_extension": ".py",
   "mimetype": "text/x-python",
   "name": "python",
   "nbconvert_exporter": "python",
   "pygments_lexer": "ipython3",
   "version": "3.8.3"
  }
 },
 "nbformat": 4,
 "nbformat_minor": 4
}
