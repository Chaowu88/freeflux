{
 "cells": [
  {
   "cell_type": "markdown",
   "metadata": {},
   "source": [
    "# Flux Variability Analysis"
   ]
  },
  {
   "cell_type": "markdown",
   "metadata": {},
   "source": [
    "FreeFlux is capable of solving the canonical [flux balance analysis](https://www.ncbi.nlm.nih.gov/pmc/articles/PMC3108565/) (FBA) problem, which is defined as:\n",
    "\n",
    "\\begin{aligned}\n",
    "\\max \\quad & {{\\bf{c}}^T} \\cdot {\\bf{v}}\\\\\n",
    "s.t. \\quad & {\\bf{S}} \\cdot {\\bf{v}} = {\\bf{0}}\\\\\n",
    "&{{\\bf{v}}_{lb}} \\le {\\bf{v}} \\le {{\\bf{v}}_{ub}}\\\\\n",
    "\\end{aligned}\n",
    "\n",
    "where ${\\bf{S}}$ is the stoichiometric matrix, and ${\\bf{v}}$ is the flux vector bounded by ${{\\bf{v}}_{lb}}$ and ${{\\bf{v}}_{ub}}$. The objective function is the linear combination of fluxes, usually the biomass formation."
   ]
  },
  {
   "cell_type": "markdown",
   "metadata": {},
   "source": [
    "Here we use the *E. coli* network for example. The model file can be found [here](https://github.com/Chaowu88/freeflux/tree/main/models/ecoli)."
   ]
  },
  {
   "cell_type": "code",
   "execution_count": 2,
   "metadata": {
    "scrolled": true
   },
   "outputs": [
    {
     "name": "stdout",
     "output_type": "stream",
     "text": [
      "\n",
      "optimizing [elapsed: 0:00:01]\n",
      "\n",
      "objective: 1*biom\n",
      "optimal objective: 1.237\n",
      "optimal fluxes\n",
      "pgi: 9.746\n",
      "pfk: 8.769\n",
      "fba: 8.769\n",
      "tpi: 8.769\n",
      "gapdh: 16.778\n",
      "eno: 14.625\n",
      "pk: 10.808\n",
      "g6pdh: 0.0\n",
      "gnd: -0.0\n",
      "rpe: -0.889\n",
      "rpi: 0.889\n",
      "tkt1: -0.889\n",
      "tkt2: 0.668\n",
      "tkt3: 0.221\n",
      "tal1: 0.221\n",
      "tal2: -0.221\n",
      "edd: 0.0\n",
      "eda: 0.0\n",
      "pdh: 7.552\n",
      "cs: 2.6\n",
      "can: 2.6\n",
      "icd: 1.917\n",
      "kdh: 0.584\n",
      "suc: -0.0\n",
      "sdh: 1.267\n",
      "fum: 1.725\n",
      "mdh: 2.408\n",
      "icl: 0.683\n",
      "ms: 0.683\n",
      "me1: 0.0\n",
      "me2: 0.0\n",
      "ppc: 2.86\n",
      "ppck: 0.0\n",
      "ak: 0.0\n",
      "gdh: 8.075\n",
      "gs: 0.835\n",
      "pro: 0.26\n",
      "arg: 0.348\n",
      "asp: 2.248\n",
      "asn: 0.283\n",
      "ala: 0.604\n",
      "ser: 1.388\n",
      "gly1: 0.78\n",
      "gldc: 0.06\n",
      "gly2: 0.0\n",
      "cys: 0.288\n",
      "lys1: 0.403\n",
      "lys2: 0.403\n",
      "thr: 0.639\n",
      "met: 0.181\n",
      "val: 0.497\n",
      "leu: 0.529\n",
      "ile: 0.341\n",
      "phe: 0.218\n",
      "tyr: 0.162\n",
      "trp: 0.067\n",
      "his: 0.111\n",
      "ocm1: 0.181\n",
      "ocm2: 0.111\n",
      "atps1: 12.343\n",
      "atps2: 1.267\n",
      "nnt: 18.96\n",
      "atpm: 0.0\n",
      "glk: 10.0\n",
      "co2out: 9.651\n",
      "o2in: 6.805\n",
      "acout: 0.636\n",
      "nh4in: 8.611\n",
      "so4in: 0.288\n",
      "biom: 1.237\n"
     ]
    }
   ],
   "source": [
    "from freeflux import Model\n",
    "\n",
    "MODEL_FILE = 'ecoli_reactions.xlsx' # 'path/to/reactions.xlsx'\n",
    "\n",
    "model = Model('ecoli')\n",
    "model.read_from_file(MODEL_FILE)\n",
    "\n",
    "with model.optimizer() as opt:\n",
    "    # set bounds for fluxes\n",
    "    opt.set_flux_bounds('all', bounds = [-100, 100]) \n",
    "    opt.set_flux_bounds('glk', bounds = [10, 10])\n",
    "\n",
    "    # optimization\n",
    "    opt.prepare()\n",
    "    res = opt.optimize(objective = {'biom': 1})\n",
    "print(res)"
   ]
  },
  {
   "cell_type": "markdown",
   "metadata": {},
   "source": [
    "[flux variable analysis](https://pubmed.ncbi.nlm.nih.gov/20920235/) (FVA) is used to find the minimum and maximum of a flux while maintaining objective above some fraction of its optimized value in the original FBA problem. The problem is formulated as: \n",
    "\n",
    "\\begin{aligned}\n",
    "\\max/min \\quad & {\\rm{ }}{v_i}\\\\\n",
    "s.t. \\quad & {\\bf{S}} \\cdot {\\bf{v}} = {\\bf{0}}\\\\\n",
    "&{{\\bf{c}}^T} \\cdot {\\bf{v}} \\ge \\gamma  \\cdot ob{j_{FBA}}\\\\\n",
    "&{{\\bf{v}}_{lb}} \\le {\\bf{v}} \\le {{\\bf{v}}_{ub}}\\\\\n",
    "\\end{aligned}\n",
    "\n",
    "where $\\gamma$ controls how close the FBA objective should be to its optiaml value $ob{j_{FBA}}$. "
   ]
  },
  {
   "cell_type": "markdown",
   "metadata": {},
   "source": [
    "FreeFlux includes FVA because it can provide a reasonable feasible space for fluxes and initial guesses sampled from it during the least squares optimzation.\n",
    "Here we "
   ]
  },
  {
   "cell_type": "markdown",
   "metadata": {},
   "source": []
  },
  {
   "cell_type": "code",
   "execution_count": 5,
   "metadata": {},
   "outputs": [
    {
     "name": "stdout",
     "output_type": "stream",
     "text": [
      "\n",
      "estimating flux ranges [elapsed: 0:00:01]\n",
      "\n",
      "flux ranges\n",
      "v1: [10.0, 100.0]\n",
      "v2: [10.0, 100.0]\n",
      "v3: [10.0, 10.0]\n",
      "v4: [0.0, 90.0]\n",
      "v5: [0.0, 90.0]\n",
      "v6: [0.0, 90.0]\n",
      "v7: [10.0, 10.0]\n"
     ]
    }
   ],
   "source": [
    "from freeflux import Model\n",
    "\n",
    "MODEL_FILE = 'reactions.tsv'\n",
    "\n",
    "demo = Model('demo')\n",
    "demo.read_from_file(MODEL_FILE)\n",
    "\n",
    "with demo.optimizer() as opt:\n",
    "    # set bounds for fluxes\n",
    "    opt.set_flux_bounds('all', bounds = [-100, 100]) \n",
    "    opt.set_flux_bounds('v7', bounds = [10, 10])\n",
    "    # FVA\n",
    "    opt.prepare()\n",
    "    res = opt.estimate_fluxes_range(objective = {'v3': 1}, gamma = 0)\n",
    "print(res)"
   ]
  },
  {
   "cell_type": "code",
   "execution_count": null,
   "metadata": {},
   "outputs": [],
   "source": []
  },
  {
   "cell_type": "markdown",
   "metadata": {},
   "source": []
  },
  {
   "cell_type": "code",
   "execution_count": null,
   "metadata": {},
   "outputs": [],
   "source": []
  }
 ],
 "metadata": {
  "kernelspec": {
   "display_name": "test-freeflux",
   "language": "python",
   "name": "test-freeflux"
  },
  "language_info": {
   "codemirror_mode": {
    "name": "ipython",
    "version": 3
   },
   "file_extension": ".py",
   "mimetype": "text/x-python",
   "name": "python",
   "nbconvert_exporter": "python",
   "pygments_lexer": "ipython3",
   "version": "3.8.3"
  }
 },
 "nbformat": 4,
 "nbformat_minor": 4
}
