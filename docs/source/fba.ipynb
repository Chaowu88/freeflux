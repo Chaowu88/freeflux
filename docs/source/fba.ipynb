{
 "cells": [
  {
   "cell_type": "markdown",
   "metadata": {},
   "source": [
    "# Flux Balance Analysis"
   ]
  },
  {
   "cell_type": "markdown",
   "metadata": {},
   "source": [
    "## FBA"
   ]
  },
  {
   "cell_type": "markdown",
   "metadata": {},
   "source": [
    "FreeFlux is capable of solving the canonical [flux balance analysis](https://www.ncbi.nlm.nih.gov/pmc/articles/PMC3108565/) (FBA) problem, which is defined as:\n",
    "\n",
    "\\begin{aligned}\n",
    "\\max \\quad & {{\\bf{c}}^T} {\\bf{v}}\\\\\n",
    "s.t. \\quad & {\\bf{S}} {\\bf{v}} = {\\bf{0}}\\\\\n",
    "&{{\\bf{v}}_{lb}} \\le {\\bf{v}} \\le {{\\bf{v}}_{ub}}\\\\\n",
    "\\end{aligned}\n",
    "\n",
    "where ${\\bf{S}}$ is the stoichiometric matrix, and ${\\bf{v}}$ is the flux vector bounded by ${{\\bf{v}}_{lb}}$ and ${{\\bf{v}}_{ub}}$. The objective function could be any linear combination of fluxes, whereas usually biomass formation is used."
   ]
  },
  {
   "cell_type": "markdown",
   "metadata": {},
   "source": [
    "Here we use the *E. coli* metabolic network for example. The model file can be found [here](https://github.com/Chaowu88/freeflux/tree/main/models/ecoli)."
   ]
  },
  {
   "cell_type": "code",
   "execution_count": 6,
   "metadata": {
    "scrolled": true
   },
   "outputs": [
    {
     "name": "stdout",
     "output_type": "stream",
     "text": [
      "\n",
      "optimizing [elapsed: 0:00:01]\n",
      "\n",
      "objective: 1.237\n",
      "pgi 9.746\n",
      "pfk 8.769\n",
      "fba 8.769\n",
      "tpi 8.769\n",
      "gapdh 16.778\n",
      "eno 14.625\n",
      "pk 10.808\n"
     ]
    }
   ],
   "source": [
    "from freeflux import Model\n",
    "\n",
    "MODEL_FILE = 'ecoli_reactions.xlsx' # 'path/to/reactions.xlsx'\n",
    "\n",
    "model = Model('ecoli')\n",
    "model.read_from_file(MODEL_FILE)\n",
    "\n",
    "with model.optimizer() as opt:\n",
    "    # set bounds for fluxes\n",
    "    opt.set_flux_bounds('all', bounds = [-100, 100]) \n",
    "    opt.set_flux_bounds('glk', bounds = [10, 10])\n",
    "\n",
    "    # solve the FBA problem\n",
    "    opt.prepare()\n",
    "    res = opt.optimize(objective = {'biom': 1})\n",
    "\n",
    "print('objective:', res.opt_objective)\n",
    "\n",
    "glycolysis_enzymes = ['pgi', 'pfk','fba', 'tpi', 'gapdh', 'eno', 'pk']\n",
    "for enzyme in glycolysis_enzymes:\n",
    "    print(enzyme, round(res.opt_fluxes[enzyme], 3))"
   ]
  },
  {
   "cell_type": "markdown",
   "metadata": {},
   "source": [
    "## FVA"
   ]
  },
  {
   "cell_type": "markdown",
   "metadata": {},
   "source": [
    "[Flux variable analysis](https://pubmed.ncbi.nlm.nih.gov/20920235/) (FVA) is used to find the minimum and maximum of a flux while maintaining the objective above some fraction of its optimized value in the original FBA problem, which is formulated as: \n",
    "\n",
    "\\begin{aligned}\n",
    "\\max/min \\quad & {\\rm{ }}{v_i}\\\\\n",
    "s.t. \\quad & {\\bf{S}} {\\bf{v}} = {\\bf{0}}\\\\\n",
    "&{{\\bf{c}}^T} {\\bf{v}} \\ge \\gamma  \\cdot ob{j_{FBA}}\\\\\n",
    "&{{\\bf{v}}_{lb}} \\le {\\bf{v}} \\le {{\\bf{v}}_{ub}}\\\\\n",
    "\\end{aligned}\n",
    "\n",
    "where $\\gamma$ controls how close the FBA objective should be to its optimal value $ob{j_{FBA}}$. "
   ]
  },
  {
   "cell_type": "markdown",
   "metadata": {},
   "source": [
    "FreeFlux contains the function for FVA because it can provide a reasonable feasible region for fluxes and initial guesses sampled from it during the least squares optimzation. As an example, the flux ranges of the *E. coli* model can be estimated using the following lines:"
   ]
  },
  {
   "cell_type": "code",
   "execution_count": 7,
   "metadata": {},
   "outputs": [
    {
     "name": "stdout",
     "output_type": "stream",
     "text": [
      "\n",
      "estimating flux ranges [elapsed: 0:00:12]\n",
      "\n",
      "pgi [-18.946, 10.0]\n",
      "pfk [0.0, 10.0]\n",
      "fba [0.0, 10.0]\n",
      "tpi [0.0, 10.0]\n",
      "gapdh [8.055, 20.0]\n",
      "eno [5.951, 20.0]\n",
      "pk [0.0, 26.42]\n"
     ]
    }
   ],
   "source": [
    "with model.optimizer() as opt:\n",
    "    # set bounds for fluxes\n",
    "    opt.set_flux_bounds('all', bounds = [-100, 100]) \n",
    "    opt.set_flux_bounds('glk', bounds = [10, 10])\n",
    "\n",
    "    # estimate flux ranges\n",
    "    opt.prepare()\n",
    "    res = opt.estimate_fluxes_range(objective = {'biom': 1}, gamma = 0)\n",
    "\n",
    "for enzyme in glycolysis_enzymes:\n",
    "    print(enzyme, [round(res.flux_ranges[enzyme][0], 3), round(res.flux_ranges[enzyme][1], 3)])"
   ]
  }
 ],
 "metadata": {
  "kernelspec": {
   "display_name": "Python [conda env:freeflux-py37]",
   "language": "python",
   "name": "conda-env-freeflux-py37-py"
  },
  "language_info": {
   "codemirror_mode": {
    "name": "ipython",
    "version": 3
   },
   "file_extension": ".py",
   "mimetype": "text/x-python",
   "name": "python",
   "nbconvert_exporter": "python",
   "pygments_lexer": "ipython3",
   "version": "3.7.0"
  }
 },
 "nbformat": 4,
 "nbformat_minor": 4
}
