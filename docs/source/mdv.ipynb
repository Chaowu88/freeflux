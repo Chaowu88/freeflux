{
 "cells": [
  {
   "cell_type": "markdown",
   "metadata": {},
   "source": [
    "# MDV"
   ]
  },
  {
   "cell_type": "markdown",
   "metadata": {},
   "source": [
    "Mass isotopomer distribution vector (MDV) represents the molar fraction of isotopomers of a metabolite (fragment). It is the fundamental computation unit for 13C metabolic flux analysis. FreeFlux provides `MDV` class for the manipulation of MDVs."
   ]
  },
  {
   "cell_type": "markdown",
   "metadata": {},
   "source": [
    "## Creating a MDV"
   ]
  },
  {
   "cell_type": "markdown",
   "metadata": {},
   "source": [
    "A MDV object can be created by the MDV class constructor:"
   ]
  },
  {
   "cell_type": "code",
   "execution_count": 1,
   "metadata": {},
   "outputs": [
    {
     "name": "stdout",
     "output_type": "stream",
     "text": [
      "MDV([0.112, 0.425, 0.315, 0.125, 0.022])\n"
     ]
    }
   ],
   "source": [
    "from freeflux import MDV\n",
    "\n",
    "mdv_oaa = MDV([0.1121, 0.4252, 0.3153, 0.1254, 0.0220])\n",
    "print(mdv_oaa)"
   ]
  },
  {
   "cell_type": "markdown",
   "metadata": {},
   "source": [
    "The constructor keeps the elements of a MDV nonnegtive, they will be normalized to ensure the sum equals 1.\n",
    "\n",
    "The isotopic enrichment (or fractional lableing) of this MDV can be accessed by `fl` attribute:"
   ]
  },
  {
   "cell_type": "code",
   "execution_count": 2,
   "metadata": {},
   "outputs": [
    {
     "data": {
      "text/plain": [
       "0.38"
      ]
     },
     "execution_count": 2,
     "metadata": {},
     "output_type": "execute_result"
    }
   ],
   "source": [
    "mdv_oaa.fl"
   ]
  },
  {
   "cell_type": "markdown",
   "metadata": {},
   "source": [
    "## MDV Convolution"
   ]
  },
  {
   "cell_type": "markdown",
   "metadata": {},
   "source": [
    "1-D discrete convolution can be performed on MDVs, which yields the product MDV of a condensation reaction, such as OAA + AcCoA $\\rightarrow$ Cit. MDV convolution can be achieved by the `conv` function:"
   ]
  },
  {
   "cell_type": "code",
   "execution_count": 3,
   "metadata": {},
   "outputs": [
    {
     "name": "stdout",
     "output_type": "stream",
     "text": [
      "MDV([0.026, 0.182, 0.391, 0.274, 0.107, 0.02, 0.001])\n"
     ]
    }
   ],
   "source": [
    "from freeflux import conv\n",
    "\n",
    "mdv_accoa = MDV([0.2312, 0.7423, 0.0265])\n",
    "mdv_cit = conv(mdv_oaa, mdv_accoa)\n",
    "print(mdv_cit)"
   ]
  },
  {
   "cell_type": "markdown",
   "metadata": {},
   "source": [
    "Convolution can be also be performed by calling the `conv` method, "
   ]
  },
  {
   "cell_type": "code",
   "execution_count": 4,
   "metadata": {},
   "outputs": [
    {
     "data": {
      "text/plain": [
       "MDV([0.026, 0.182, 0.391, 0.274, 0.107, 0.02, 0.001])"
      ]
     },
     "execution_count": 4,
     "metadata": {},
     "output_type": "execute_result"
    }
   ],
   "source": [
    "mdv_oaa.conv(mdv_accoa)"
   ]
  },
  {
   "cell_type": "markdown",
   "metadata": {},
   "source": [
    "or using `*` operator."
   ]
  },
  {
   "cell_type": "code",
   "execution_count": 5,
   "metadata": {},
   "outputs": [
    {
     "data": {
      "text/plain": [
       "MDV([0.026, 0.182, 0.391, 0.274, 0.107, 0.02, 0.001])"
      ]
     },
     "execution_count": 5,
     "metadata": {},
     "output_type": "execute_result"
    }
   ],
   "source": [
    "mdv_accoa*mdv_oaa"
   ]
  },
  {
   "cell_type": "markdown",
   "metadata": {},
   "source": [
    "## Correcting for Natural Abundance"
   ]
  },
  {
   "cell_type": "markdown",
   "metadata": {},
   "source": [
    "To get the exclusive isotopomer distribution of the carbon skeleton of the metaboite (fragment) cause by the labeled substrate(s), MDV should be corrected for the netural abundance of all other atoms with natural stable isotopes. For example,"
   ]
  },
  {
   "cell_type": "code",
   "execution_count": 6,
   "metadata": {},
   "outputs": [
    {
     "data": {
      "text/plain": [
       "MDV([0.113, 0.43, 0.317, 0.122, 0.019])"
      ]
     },
     "execution_count": 6,
     "metadata": {},
     "output_type": "execute_result"
    }
   ],
   "source": [
    "mdv_oaa.correct_for_natural_abundance(atom_dict = {'H':3, 'O':5})"
   ]
  },
  {
   "cell_type": "markdown",
   "metadata": {},
   "source": [
    "## Correcting for Inoculum"
   ]
  },
  {
   "cell_type": "markdown",
   "metadata": {},
   "source": [
    "Unlabeled fraction introduced by inoculum can be corrected by the following line:"
   ]
  },
  {
   "cell_type": "code",
   "execution_count": 7,
   "metadata": {},
   "outputs": [
    {
     "data": {
      "text/plain": [
       "MDV([0.104, 0.429, 0.318, 0.127, 0.022])"
      ]
     },
     "execution_count": 7,
     "metadata": {},
     "output_type": "execute_result"
    }
   ],
   "source": [
    "mdv_oaa.correct_for_inoculum(fraction = 0.01)   # 0.01 is the fraction of unlabeled biomass"
   ]
  },
  {
   "cell_type": "markdown",
   "metadata": {},
   "source": [
    "## Calculating the MDV of unlabeled fragment"
   ]
  },
  {
   "cell_type": "markdown",
   "metadata": {},
   "source": [
    "`get_natural_MDV` method can be used to calculate the MDV of unlabeled metabolite (fragment) with `n_atoms` atoms."
   ]
  },
  {
   "cell_type": "code",
   "execution_count": 8,
   "metadata": {},
   "outputs": [
    {
     "data": {
      "text/plain": [
       "MDV([0.958, 0.041, 0.001, 0.0, 0.0])"
      ]
     },
     "execution_count": 8,
     "metadata": {},
     "output_type": "execute_result"
    }
   ],
   "source": [
    "from freeflux import get_natural_MDV\n",
    "\n",
    "get_natural_MDV(n_atoms = 4)"
   ]
  },
  {
   "cell_type": "markdown",
   "metadata": {},
   "source": [
    "## Calculating the MDV of labeled substrate"
   ]
  },
  {
   "cell_type": "markdown",
   "metadata": {},
   "source": [
    "We assume that a two-carbon substrate is mixed with 25% C2 labeled isotopomer and 25% fully labeled isotopomer, the MDV of this substrate can be obtained by:"
   ]
  },
  {
   "cell_type": "code",
   "execution_count": 9,
   "metadata": {},
   "outputs": [
    {
     "data": {
      "text/plain": [
       "MDV([0.489, 0.258, 0.253])"
      ]
     },
     "execution_count": 9,
     "metadata": {},
     "output_type": "execute_result"
    }
   ],
   "source": [
    "from freeflux import get_substrate_MDV\n",
    "\n",
    "get_substrate_MDV(\n",
    "    atom_nos = [1, 2], \n",
    "    labeling_pattern = ['01', '11'], \n",
    "    percentage = [0.25, 0.25], \n",
    "    purity = [1, 1]\n",
    ")"
   ]
  }
 ],
 "metadata": {
  "kernelspec": {
   "display_name": "test-freeflux",
   "language": "python",
   "name": "test-freeflux"
  },
  "language_info": {
   "codemirror_mode": {
    "name": "ipython",
    "version": 3
   },
   "file_extension": ".py",
   "mimetype": "text/x-python",
   "name": "python",
   "nbconvert_exporter": "python",
   "pygments_lexer": "ipython3",
   "version": "3.8.3"
  }
 },
 "nbformat": 4,
 "nbformat_minor": 4
}
