{
 "cells": [
  {
   "cell_type": "markdown",
   "metadata": {},
   "source": [
    "# MDV"
   ]
  },
  {
   "cell_type": "markdown",
   "metadata": {},
   "source": [
    "Mass isotopomer distribution vector (MDV) represents the molar fractions of isotopomers of a metabolite (fragment). It is the fundamental input for $^{13}\\mathrm{C}$ metabolic flux analysis after correction for natural abundance of isotopes. FreeFlux provides class ``MDV`` for basic operations of MDVs."
   ]
  },
  {
   "cell_type": "markdown",
   "metadata": {},
   "source": [
    "## Creating a MDV"
   ]
  },
  {
   "cell_type": "code",
   "execution_count": 8,
   "metadata": {},
   "outputs": [
    {
     "name": "stdout",
     "output_type": "stream",
     "text": [
      "MDV([0.112, 0.425, 0.315, 0.125, 0.022])\n"
     ]
    }
   ],
   "source": [
    "from freeflux import MDV\n",
    "\n",
    "mdv_oaa = MDV([0.1121, 0.4252, 0.3153, 0.1254, 0.0220])\n",
    "print(mdv_oaa)"
   ]
  },
  {
   "cell_type": "code",
   "execution_count": null,
   "metadata": {},
   "outputs": [],
   "source": []
  }
 ],
 "metadata": {
  "kernelspec": {
   "display_name": "test-freeflux",
   "language": "python",
   "name": "test-freeflux"
  },
  "language_info": {
   "codemirror_mode": {
    "name": "ipython",
    "version": 3
   },
   "file_extension": ".py",
   "mimetype": "text/x-python",
   "name": "python",
   "nbconvert_exporter": "python",
   "pygments_lexer": "ipython3",
   "version": "3.8.3"
  }
 },
 "nbformat": 4,
 "nbformat_minor": 4
}
