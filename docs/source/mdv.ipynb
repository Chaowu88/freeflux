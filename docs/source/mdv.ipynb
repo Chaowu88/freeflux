{
 "cells": [
  {
   "cell_type": "markdown",
   "metadata": {},
   "source": [
    "# MDV"
   ]
  },
  {
   "cell_type": "markdown",
   "metadata": {},
   "source": [
    "Mass isotopomer distribution vector (MDV) represents the molar fractions of isotopomers of a metabolite (fragment). It is the fundamental input for $^\\mathsf{13}\\mathsf{C}$ metabolic flux analysis after correction for natural abundance of isotopes. FreeFlux provides class `MDV` for basic operations of MDVs."
   ]
  },
  {
   "cell_type": "markdown",
   "metadata": {},
   "source": [
    "## Creating a MDV"
   ]
  },
  {
   "cell_type": "markdown",
   "metadata": {},
   "source": [
    "A MDV object can be created by the MDV class constructor:"
   ]
  },
  {
   "cell_type": "code",
   "execution_count": 1,
   "metadata": {},
   "outputs": [
    {
     "name": "stdout",
     "output_type": "stream",
     "text": [
      "MDV([0.112, 0.425, 0.315, 0.125, 0.022])\n"
     ]
    }
   ],
   "source": [
    "from freeflux import MDV\n",
    "\n",
    "mdv_oaa = MDV([0.1121, 0.4252, 0.3153, 0.1254, 0.0220])\n",
    "print(mdv_oaa)"
   ]
  },
  {
   "cell_type": "markdown",
   "metadata": {},
   "source": [
    "The constructor will keep the elements of a MDV nonnegtive and normalize it to ensure the sum of elements equals 1.\n",
    "\n",
    "The fractional lableing of this MDV can be accessed by `fl` attribute:"
   ]
  },
  {
   "cell_type": "code",
   "execution_count": 2,
   "metadata": {},
   "outputs": [
    {
     "data": {
      "text/plain": [
       "0.38"
      ]
     },
     "execution_count": 2,
     "metadata": {},
     "output_type": "execute_result"
    }
   ],
   "source": [
    "mdv_oaa.fl"
   ]
  },
  {
   "cell_type": "markdown",
   "metadata": {},
   "source": [
    "## MDV convolution"
   ]
  },
  {
   "cell_type": "markdown",
   "metadata": {},
   "source": [
    "1-D discrete convolution can be performed on MDVs, which yields the MDV of product from a condensation reaction such as OAA + AcCoA $\\rightarrow$ Cit. MDV convolution can be achieved by `conv` function:"
   ]
  },
  {
   "cell_type": "code",
   "execution_count": 6,
   "metadata": {},
   "outputs": [
    {
     "name": "stdout",
     "output_type": "stream",
     "text": [
      "MDV([0.026, 0.182, 0.391, 0.274, 0.107, 0.02, 0.001])\n"
     ]
    }
   ],
   "source": [
    "from freeflux import conv\n",
    "\n",
    "mdv_accoa = MDV([0.2312, 0.7423, 0.0265])\n",
    "mdv_cit = conv(mdv_oaa, mdv_accoa)\n",
    "print(mdv_cit)"
   ]
  },
  {
   "cell_type": "code",
   "execution_count": null,
   "metadata": {},
   "outputs": [],
   "source": []
  }
 ],
 "metadata": {
  "kernelspec": {
   "display_name": "test-freeflux",
   "language": "python",
   "name": "test-freeflux"
  },
  "language_info": {
   "codemirror_mode": {
    "name": "ipython",
    "version": 3
   },
   "file_extension": ".py",
   "mimetype": "text/x-python",
   "name": "python",
   "nbconvert_exporter": "python",
   "pygments_lexer": "ipython3",
   "version": "3.8.3"
  }
 },
 "nbformat": 4,
 "nbformat_minor": 4
}
