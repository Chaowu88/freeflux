{
 "cells": [
  {
   "cell_type": "markdown",
   "metadata": {},
   "source": [
    "# Estimating Fluxes at INST state"
   ]
  },
  {
   "cell_type": "markdown",
   "metadata": {},
   "source": [
    "To estimate metabolic fluxes at the INST state, FreeFlux uses a nonlinear optimization approach that takes into account both metabolite concentrations and MDVs from multiple timepoints. The problem can be defined mathematically as follows:\n",
    "\n",
    "![Optimization problem ><](images/inst_eqn.gif)\n",
    "\n",
    "Here, ${\\bf{x}}_{sim}$ represents the simulated MDVs at all timepoints, and ${\\bf{v}}_{sim}$ represents the simulated fluxes. Both are functions of the independent variable vector $\\bf{p}$, which includes free fluxes $\\bf{u}$ and concentrations $\\bf{c}$. ${\\bf{x}}_{exp}$ and ${\\bf{v}}_{exp}$ are the measurements of MDV and flux, respectively, and ${\\bf{\\Sigma }}_{{{\\bf{x}}_{exp}}}^{ - 1}$ and ${\\bf{\\Sigma }}_{{{\\bf{v}}_{exp}}}^{ - 1}$ are the inverses of the covariance matrix of measurements. $\\bf{N}$ is the null space of stoichiometric matrix of the network reactions, and $\\bf{T}$ denotes the matrix that transforms total fluxes to net fluxes."
   ]
  },
  {
   "cell_type": "markdown",
   "metadata": {},
   "source": [
    "## Solving both the Fluxes and Concentrations"
   ]
  },
  {
   "cell_type": "markdown",
   "metadata": {},
   "source": [
    "Similar to before, we start by building a metabolic model by reading the reactions from a [file](https://github.com/Chaowu88/freeflux/tree/main/models/toy)."
   ]
  },
  {
   "cell_type": "code",
   "execution_count": 1,
   "metadata": {},
   "outputs": [],
   "source": [
    "from freeflux import Model\n",
    "\n",
    "MODEL_FILE = 'path/to/reactions.tsv'\n",
    "\n",
    "model = Model('demo')\n",
    "model.read_from_file(MODEL_FILE)\n",
    "\n",
    "ifit = model.fitter('inst')"
   ]
  },
  {
   "cell_type": "markdown",
   "metadata": {},
   "source": [
    "Next, we specify the labeling strategy for the labeled substrates:"
   ]
  },
  {
   "cell_type": "code",
   "execution_count": 2,
   "metadata": {},
   "outputs": [],
   "source": [
    "ifit.set_labeling_strategy(\n",
    "    'AcCoA', \n",
    "    labeling_pattern = ['01', '11'], \n",
    "    percentage = [0.25, 0.25], \n",
    "    purity = [1, 1]\n",
    ")   # call this method for each labeled substrate"
   ]
  },
  {
   "cell_type": "markdown",
   "metadata": {},
   "source": [
    "The measured metabolite-derived isotopomer fractions (MDVs) and fluxes can be loaded one by one using `set_measured_MDV` and `set_measured_flux`, or all at once from [files](https://github.com/Chaowu88/freeflux/tree/main/models/toy) using `set_measured_MDVs_from_file` and `set_measured_fluxes_from_file`:"
   ]
  },
  {
   "cell_type": "code",
   "execution_count": 3,
   "metadata": {},
   "outputs": [],
   "source": [
    "MEASURED_MDV_FILE = 'path/to/measured_inst_MDVs.tsv'\n",
    "MEASURED_FLUX_FILE = 'path/to/measured_fluxes.tsv'\n",
    "\n",
    "ifit.set_measured_MDVs_from_file(MEASURED_MDV_FILE)\n",
    "ifit.set_measured_fluxes_from_file(MEASURED_FLUX_FILE)"
   ]
  },
  {
   "cell_type": "markdown",
   "metadata": {},
   "source": [
    "Next, we set the lower and upper bounds for the net fluxes and concentrations using `set_flux_bounds` and `set_concentration_bounds`, respectively:"
   ]
  },
  {
   "cell_type": "code",
   "execution_count": 4,
   "metadata": {},
   "outputs": [],
   "source": [
    "ifit.set_flux_bounds('all', bounds = [-100, 100])\n",
    "ifit.set_concentration_bounds('all', bounds = [0.001, 10])"
   ]
  },
  {
   "cell_type": "markdown",
   "metadata": {},
   "source": [
    "<div class=\"alert alert-info\">\n",
    "\n",
    "<b>Note:</b> <br></br> 1. The upper bound should be great than the lower bound. Use `set_measured_flux` or `set_measured_fluxes_from_file` for equality assignment; 2. Bounds specified by `set_concentration_bounds` are not used as constraints in the optimization, it just defines the sampling range of the initial guess of concentrations; 3. By default, fluxes, concentrations and timepoints have the unit of $\\mu$mol gCDW$^{-1}$ s$^{-1}$, $\\mu$mol gCDW$^{-1}$, and s, respectively.\n",
    "\n",
    "</div>"
   ]
  },
  {
   "cell_type": "markdown",
   "metadata": {},
   "source": [
    "Finally, we solve for the fluxes and concentrations:"
   ]
  },
  {
   "cell_type": "code",
   "execution_count": 5,
   "metadata": {},
   "outputs": [
    {
     "name": "stdout",
     "output_type": "stream",
     "text": [
      "\n",
      "INST fitting [elapsed: 0:00:56]\n",
      "\n",
      "True\n"
     ]
    }
   ],
   "source": [
    "ifit.prepare(n_jobs = 3)\n",
    "res = ifit.solve(\n",
    "    solver = 'ralg', \n",
    "    ini_fluxes = None, \n",
    "    fit_measured_fluxes = True\n",
    ")\n",
    "print(res.optimization_successful)"
   ]
  },
  {
   "cell_type": "markdown",
   "metadata": {},
   "source": [
    "The \"fit_measured_fluxes\" parameter in the `solve` method determines whether the measured fluxes are included in the optimization or not."
   ]
  },
  {
   "cell_type": "markdown",
   "metadata": {},
   "source": [
    "Currently, two methods are available to solve the fitting problem: the sequential least squares programming (solver=\"slsqp\") and the r-algorithm with adaptive space dilation (solver=\"ralg\", OpenOpt required). The two methods may have different performance on different models and input data. To use the r-algorithm solver, OpenOpt is required, and you can find more details on how to install it [here](https://freeflux.readthedocs.io/en/latest/installation.html)."
   ]
  },
  {
   "cell_type": "markdown",
   "metadata": {},
   "source": [
    "The \"ini_fluxes\" argument is used to enter an initial guess of the fluxes, which can be derived from the last successful optimization. This argument takes a Pandas [Series](https://pandas.pydata.org/docs/reference/api/pandas.Series.html) object or a .tsv/.xlsx file. A good initial guess can help with convergence. If None, the solve method will use a random initial guess sampled from the feasible region of fluxes estimated by flux variability analysis [(FVA)](https://freeflux.readthedocs.io/en/latest/fba.html)."
   ]
  },
  {
   "cell_type": "markdown",
   "metadata": {},
   "source": [
    "The \"fit_measured_fluxes\" argument determines whether the second flux item is included in the objective function of the above-formulated problem. Set this argument to *True* if exchange fluxes (e.g., substrate uptake rate, product secretion rate, or the specific cell growth) are measured and provided by `set_measured_flux` or `set_measured_fluxes_from_file`. In this case, the estimated fluxes have the same unit as the measured ones, which is $\\mu$mol gCDW$^{-1}$ s$^{-1}$ by default."
   ]
  },
  {
   "cell_type": "markdown",
   "metadata": {},
   "source": [
    "Additional arguments can be used to control the optimization process. For example, the \"tol\" and \"max_iters\" arguments can be used to set the tolerance level and maximum number of iterations for the solver, respectively. The \"show_progress\" argument can be set to *True* to display the time elapsed during the optimization."
   ]
  },
  {
   "cell_type": "markdown",
   "metadata": {},
   "source": [
    "The results of the optimization are stored in an InstFitResults object. The optimal objective value can be accessed through the `opt_objective` attribute of the object."
   ]
  },
  {
   "cell_type": "code",
   "execution_count": 6,
   "metadata": {},
   "outputs": [
    {
     "data": {
      "text/plain": [
       "0.018"
      ]
     },
     "execution_count": 6,
     "metadata": {},
     "output_type": "execute_result"
    }
   ],
   "source": [
    "res.opt_objective"
   ]
  },
  {
   "cell_type": "markdown",
   "metadata": {},
   "source": [
    "The optimal fluxes can be accessed by:"
   ]
  },
  {
   "cell_type": "code",
   "execution_count": 7,
   "metadata": {},
   "outputs": [
    {
     "name": "stdout",
     "output_type": "stream",
     "text": [
      "v1: 10.001\n",
      "v2: 10.001\n",
      "v3: 4.972\n",
      "v4: 5.029\n",
      "v5: 5.029\n",
      "v6: 5.029\n",
      "v7: 4.972\n"
     ]
    }
   ],
   "source": [
    "print(res.opt_net_fluxes) # opt_total_fluxes for total fluxes"
   ]
  },
  {
   "cell_type": "markdown",
   "metadata": {},
   "source": [
    "And the optimal concentration can be accessed by:"
   ]
  },
  {
   "cell_type": "code",
   "execution_count": 8,
   "metadata": {},
   "outputs": [
    {
     "name": "stdout",
     "output_type": "stream",
     "text": [
      "AKG: 0.281\n",
      "Cit: 4.98\n",
      "Fum: 0.141\n",
      "Glu: 0.514\n",
      "OAA: 2.246\n",
      "Suc: 0.049\n"
     ]
    }
   ],
   "source": [
    "print(res.opt_concentrations)"
   ]
  },
  {
   "cell_type": "markdown",
   "metadata": {},
   "source": [
    "We can also use `plot_normal_probability` to check the goodness of fit:"
   ]
  },
  {
   "cell_type": "code",
   "execution_count": 9,
   "metadata": {},
   "outputs": [
    {
     "data": {
      "image/png": "[encoded data removed]",
      "text/plain": [
       "<Figure size 640x480 with 1 Axes>"
      ]
     },
     "metadata": {},
     "output_type": "display_data"
    }
   ],
   "source": [
    "res.plot_normal_probability(show_fig = True, output_dir = None)"
   ]
  },
  {
   "cell_type": "markdown",
   "metadata": {},
   "source": [
    "Comparison of the simulated and experimental measurements can be made by:"
   ]
  },
  {
   "cell_type": "code",
   "execution_count": 10,
   "metadata": {},
   "outputs": [
    {
     "data": {
      "image/png": "[encoded data removed]",
      "text/plain": [
       "<Figure size 640x480 with 1 Axes>"
      ]
     },
     "metadata": {},
     "output_type": "display_data"
    }
   ],
   "source": [
    " res.plot_simulated_vs_measured_MDVs(show_fig = True, output_dir = None)"
   ]
  },
  {
   "cell_type": "code",
   "execution_count": 11,
   "metadata": {},
   "outputs": [
    {
     "data": {
      "image/png": "[encoded data removed]",
      "text/plain": [
       "<Figure size 640x480 with 1 Axes>"
      ]
     },
     "metadata": {},
     "output_type": "display_data"
    }
   ],
   "source": [
    "res.plot_simulated_vs_measured_fluxes(show_fig = True, output_dir = None)"
   ]
  },
  {
   "cell_type": "markdown",
   "metadata": {},
   "source": [
    "Symmetric confidence intervals of fluxes at convergence can be obtained using the `estimate_confidence_intervals` method:"
   ]
  },
  {
   "cell_type": "code",
   "execution_count": 12,
   "metadata": {},
   "outputs": [
    {
     "name": "stdout",
     "output_type": "stream",
     "text": [
      "v1: [9.125, 10.876]\n",
      "v2: [9.125, 10.876]\n",
      "v3: [4.219, 5.725]\n",
      "v4: [3.845, 6.213]\n",
      "v5: [3.845, 6.213]\n",
      "v6: [3.845, 6.213]\n",
      "v7: [4.219, 5.725]\n"
     ]
    }
   ],
   "source": [
    "print(res.estimate_confidence_intervals(\n",
    "    which = 'net',   # which = \"total\" for total fluxes\n",
    "    confidence_level = 0.95\n",
    ")) "
   ]
  },
  {
   "cell_type": "code",
   "execution_count": 13,
   "metadata": {},
   "outputs": [
    {
     "name": "stdout",
     "output_type": "stream",
     "text": [
      "AKG: [0.0, 3.603]\n",
      "Cit: [3.013, 6.946]\n",
      "Fum: [0.0, 1138.422]\n",
      "Glu: [0.0, 2.857]\n",
      "OAA: [0.0, 972.684]\n",
      "Suc: [0.0, 181.646]\n"
     ]
    }
   ],
   "source": [
    "print(res.estimate_confidence_intervals(which = 'conc', confidence_level = 0.95))"
   ]
  },
  {
   "cell_type": "markdown",
   "metadata": {},
   "source": [
    "We can evaluate the contribution of measurement variances (including all timepoints) to the uncertainty of estimated fluxes by calculating the contribution matrix:"
   ]
  },
  {
   "cell_type": "code",
   "execution_count": 14,
   "metadata": {},
   "outputs": [
    {
     "name": "stdout",
     "output_type": "stream",
     "text": [
      "    Glu_12345_m0_0.1  Glu_12345_m1_0.1  Glu_12345_m2_0.1  Glu_12345_m3_0.1  \\\n",
      "v1          0.006657          0.001562          0.002262          0.000016   \n",
      "v2          0.006657          0.001562          0.002262          0.000016   \n",
      "v3          0.012128          0.002408          0.003313          0.000010   \n",
      "v4          0.000094          0.000004          0.000002          0.000024   \n",
      "v5          0.000094          0.000004          0.000002          0.000024   \n",
      "v6          0.000094          0.000004          0.000002          0.000024   \n",
      "v7          0.012128          0.002408          0.003313          0.000010   \n",
      "\n",
      "    Glu_12345_m4_0.1  Glu_12345_m5_0.1  Glu_12345_m0_0.2  Glu_12345_m1_0.2  \\\n",
      "v1      2.239544e-06      3.003782e-10          0.049795          0.015252   \n",
      "v2      2.239544e-06      3.003782e-10          0.049795          0.015252   \n",
      "v3      1.395488e-07      1.694144e-11          0.084663          0.015899   \n",
      "v4      1.805789e-06      2.380560e-10          0.000403          0.000123   \n",
      "v5      1.805789e-06      2.380560e-10          0.000403          0.000123   \n",
      "v6      1.805789e-06      2.380560e-10          0.000403          0.000123   \n",
      "v7      1.395488e-07      1.694144e-11          0.084663          0.015899   \n",
      "\n",
      "    Glu_12345_m2_0.2  Glu_12345_m3_0.2  ...  Glu_12345_m3_1.0  \\\n",
      "v1          0.023665          0.001707  ...          0.147273   \n",
      "v2          0.023665          0.001707  ...          0.147273   \n",
      "v3          0.021487          0.000233  ...          0.000035   \n",
      "v4          0.000420          0.001620  ...          0.082639   \n",
      "v5          0.000420          0.001620  ...          0.082639   \n",
      "v6          0.000420          0.001620  ...          0.082639   \n",
      "v7          0.021487          0.000233  ...          0.000035   \n",
      "\n",
      "    Glu_12345_m4_1.0  Glu_12345_m5_1.0  Glu_12345_m0_2.0  Glu_12345_m1_2.0  \\\n",
      "v1          0.020384          0.000204          0.142737          0.043837   \n",
      "v2          0.020384          0.000204          0.142737          0.043837   \n",
      "v3          0.000023          0.000002          0.407109          0.004165   \n",
      "v4          0.011793          0.000132          0.469267          0.038342   \n",
      "v5          0.011793          0.000132          0.469267          0.038342   \n",
      "v6          0.011793          0.000132          0.469267          0.038342   \n",
      "v7          0.000023          0.000002          0.407109          0.004165   \n",
      "\n",
      "    Glu_12345_m2_2.0  Glu_12345_m3_2.0  Glu_12345_m4_2.0  Glu_12345_m5_2.0  \\\n",
      "v1          0.017978          0.005100          0.000345          0.000342   \n",
      "v2          0.017978          0.005100          0.000345          0.000342   \n",
      "v3          0.007589          0.123542          0.015118          0.000143   \n",
      "v4          0.023875          0.076347          0.004156          0.000037   \n",
      "v5          0.023875          0.076347          0.004156          0.000037   \n",
      "v6          0.023875          0.076347          0.004156          0.000037   \n",
      "v7          0.007589          0.123542          0.015118          0.000143   \n",
      "\n",
      "          v1  \n",
      "v1  0.170514  \n",
      "v2  0.170514  \n",
      "v3  0.000466  \n",
      "v4  0.101747  \n",
      "v5  0.101747  \n",
      "v6  0.101747  \n",
      "v7  0.000466  \n",
      "\n",
      "[7 rows x 31 columns]\n"
     ]
    }
   ],
   "source": [
    "print(res.estimate_contribution_matrix(which = 'net')) # which = \"total\" for total fluxes"
   ]
  },
  {
   "cell_type": "markdown",
   "metadata": {},
   "source": [
    "The sensitivities of estimated fluxes with respect to measurement perturbations (including all timepoints) can be obtained by:"
   ]
  },
  {
   "cell_type": "code",
   "execution_count": 15,
   "metadata": {},
   "outputs": [
    {
     "name": "stdout",
     "output_type": "stream",
     "text": [
      "    Glu_12345_m0_0.1  Glu_12345_m1_0.1  Glu_12345_m2_0.1  Glu_12345_m3_0.1  \\\n",
      "v1         -3.369194          1.632079          1.963988         -0.164362   \n",
      "v2         -3.369194          1.632079          1.963988         -0.164362   \n",
      "v3         -3.912126          1.743226          2.044739          0.110744   \n",
      "v4          0.542932         -0.111147         -0.080751         -0.275106   \n",
      "v5          0.542932         -0.111147         -0.080751         -0.275106   \n",
      "v6          0.542932         -0.111147         -0.080751         -0.275106   \n",
      "v7         -3.912126          1.743226          2.044739          0.110744   \n",
      "\n",
      "    Glu_12345_m4_0.1  Glu_12345_m5_0.1  Glu_12345_m0_0.2  Glu_12345_m1_0.2  \\\n",
      "v1         -0.061796         -0.000716         -9.214526          5.099624   \n",
      "v2         -0.061796         -0.000716         -9.214526          5.099624   \n",
      "v3          0.013270          0.000146        -10.336268          4.479272   \n",
      "v4         -0.075066         -0.000862          1.121742          0.620352   \n",
      "v5         -0.075066         -0.000862          1.121742          0.620352   \n",
      "v6         -0.075066         -0.000862          1.121742          0.620352   \n",
      "v7          0.013270          0.000146        -10.336268          4.479272   \n",
      "\n",
      "    Glu_12345_m2_0.2  Glu_12345_m3_0.2  ...  Glu_12345_m3_1.0  \\\n",
      "v1          6.352281         -1.705824  ...        -15.846819   \n",
      "v2          6.352281         -1.705824  ...        -15.846819   \n",
      "v3          5.207194          0.542625  ...          0.211619   \n",
      "v4          1.145087         -2.248449  ...        -16.058438   \n",
      "v5          1.145087         -2.248449  ...        -16.058438   \n",
      "v6          1.145087         -2.248449  ...        -16.058438   \n",
      "v7          5.207194          0.542625  ...          0.211619   \n",
      "\n",
      "    Glu_12345_m4_1.0  Glu_12345_m5_1.0  Glu_12345_m0_2.0  Glu_12345_m1_2.0  \\\n",
      "v1         -5.895495         -0.590468        -15.600880          8.645712   \n",
      "v2         -5.895495         -0.590468        -15.600880          8.645712   \n",
      "v3          0.170868          0.051010         22.665844         -2.292551   \n",
      "v4         -6.066363         -0.641478        -38.266723         10.938263   \n",
      "v5         -6.066363         -0.641478        -38.266723         10.938263   \n",
      "v6         -6.066363         -0.641478        -38.266723         10.938263   \n",
      "v7          0.170868          0.051010         22.665844         -2.292551   \n",
      "\n",
      "    Glu_12345_m2_2.0  Glu_12345_m3_2.0  Glu_12345_m4_2.0  Glu_12345_m5_2.0  \\\n",
      "v1          5.536727          2.948962         -0.766712         -0.763809   \n",
      "v2          5.536727          2.948962         -0.766712         -0.763809   \n",
      "v3         -3.094699        -12.486040         -4.367789         -0.424765   \n",
      "v4          8.631426         15.435002          3.601078         -0.339044   \n",
      "v5          8.631426         15.435002          3.601078         -0.339044   \n",
      "v6          8.631426         15.435002          3.601078         -0.339044   \n",
      "v7         -3.094699        -12.486040         -4.367789         -0.424765   \n",
      "\n",
      "          v1  \n",
      "v1  0.170514  \n",
      "v2  0.170514  \n",
      "v3 -0.007671  \n",
      "v4  0.178185  \n",
      "v5  0.178185  \n",
      "v6  0.178185  \n",
      "v7 -0.007671  \n",
      "\n",
      "[7 rows x 31 columns]\n"
     ]
    }
   ],
   "source": [
    "print(res.estimate_sensitivity(which = 'net')) # which = \"total\" for total fluxes"
   ]
  },
  {
   "cell_type": "markdown",
   "metadata": {},
   "source": [
    "Similarly, the `with` statement can also be used to perform flux estimation:\n",
    "\n",
    "```\n",
    "with model.fitter('inst') as ifit:\n",
    "    ifit.set_labeling_strategy(\n",
    "        'AcCoA', \n",
    "        labeling_pattern = ['01', '11'], \n",
    "        percentage = [0.25, 0.25], \n",
    "        purity = [1,1]\n",
    "    )\n",
    "    ifit.set_measured_MDVs_from_file(MEASURED_MDVS)\n",
    "    ifit.set_measured_fluxes_from_file(MEASURED_FLUXES)\n",
    "    ifit.set_flux_bounds(\n",
    "        'all', \n",
    "        bounds = [-100, 100]\n",
    "    )\n",
    "    ifit.set_concentration_bounds(\n",
    "        'all', \n",
    "        bounds = [0.001, 10]\n",
    "    )\n",
    "    ifit.prepare(n_jobs = 3)\n",
    "    res = ifit.solve(solver = 'ralg')\n",
    "```"
   ]
  },
  {
   "cell_type": "markdown",
   "metadata": {},
   "source": [
    "A more complex example of flux estimation at INST state using an *Synechocystis* model is provided in the script \"[tutorial_synechocystis_inst_estimation.py](https://github.com/Chaowu88/freeflux/tree/main/tutorials)\""
   ]
  },
  {
   "cell_type": "markdown",
   "metadata": {},
   "source": [
    "## Dilution Parameter"
   ]
  },
  {
   "cell_type": "markdown",
   "metadata": {},
   "source": [
    "Transient labeling of metabolites can be impeded by dilution effect. To account for it, we can add several special reactions to the network:"
   ]
  },
  {
   "cell_type": "markdown",
   "metadata": {},
   "source": [
    "v1: 0A(abc) $\\rightarrow$ As(abc)\\\n",
    "v2: 0Au(abc) $\\rightarrow$ As(abc)\\\n",
    "v3: As(abc) $\\rightarrow$ sink"
   ]
  },
  {
   "cell_type": "markdown",
   "metadata": {},
   "source": [
    "where A is the metabolite involved in metabolic reactions, Au is the metabolically inactive (unlabeled) fraction, and As is the pseudo-metabolite denoting the metabolites measured in samples. The zero coefficient in v1 and v2 guarantees that the additional metabolites will have no effect on the mass balance of network reactions. The flux values of the reactions could be arbitrary, but the ratio v2/(v1+v2) is determined by the labeling patterns of A, Au, and As, which is estimated as the dilution parameter."
   ]
  },
  {
   "cell_type": "markdown",
   "metadata": {},
   "source": [
    "Then, we need to tell the decomposer the unlabeled dilution source(s), i.e., \"Au\" in the above example by setting the argument \"dilution_from = 'Au'\" in the `prepare` method."
   ]
  },
  {
   "cell_type": "markdown",
   "metadata": {},
   "source": [
    "## Solving the Fluxes with Confidence Intervals"
   ]
  },
  {
   "cell_type": "markdown",
   "metadata": {},
   "source": [
    "Uncertainties of fluxes and concentrations can be estimated using the Monte Carlo method. The following code demonstrates how to do this:"
   ]
  },
  {
   "cell_type": "code",
   "execution_count": 16,
   "metadata": {},
   "outputs": [
    {
     "name": "stdout",
     "output_type": "stream",
     "text": [
      "\n",
      "INST fitting with CIs [elapsed: 0:07:49]\n",
      "\n"
     ]
    }
   ],
   "source": [
    "model = Model('demo')\n",
    "model.read_from_file(MODEL_FILE)\n",
    "\n",
    "with model.fitter('inst') as ifit:\n",
    "    ifit.set_labeling_strategy(\n",
    "        'AcCoA', \n",
    "        labeling_pattern = ['01', '11'], \n",
    "        percentage = [0.25, 0.25], \n",
    "        purity = [1,1]\n",
    "    )\n",
    "    ifit.set_measured_MDVs_from_file(MEASURED_MDV_FILE)\n",
    "    ifit.set_measured_fluxes_from_file(MEASURED_FLUX_FILE)\n",
    "    ifit.set_flux_bounds(\n",
    "        'all', \n",
    "        bounds = [-100, 100]\n",
    "    )\n",
    "    ifit.set_concentration_bounds(\n",
    "        'all', \n",
    "        bounds = [0.001, 10]\n",
    "    )\n",
    "    ifit.prepare(n_jobs = 30)\n",
    "    res = ifit.solve_with_confidence_intervals(\n",
    "        n_runs = 30, \n",
    "        n_jobs = 3\n",
    "    )"
   ]
  },
  {
   "cell_type": "markdown",
   "metadata": {},
   "source": [
    "<div class=\"alert alert-info\">\n",
    "\n",
    "<b>Note:</b> <br></br> For the estimation of CIs for large-sized models, we strongly recommend running with parallel jobs. One can achieve this by setting the 'n_jobs' argument of the `solve_with_confidence_intervals` method to a value greater than 1.\n",
    "\n",
    "</div>"
   ]
  },
  {
   "cell_type": "code",
   "execution_count": 17,
   "metadata": {},
   "outputs": [
    {
     "name": "stdout",
     "output_type": "stream",
     "text": [
      "v1: [8.078, 10.78]\n",
      "v2: [8.078, 10.78]\n",
      "v3: [2.102, 5.724]\n",
      "v4: [3.605, 8.557]\n",
      "v5: [3.605, 8.557]\n",
      "v6: [3.605, 8.557]\n",
      "v7: [2.102, 5.724]\n"
     ]
    }
   ],
   "source": [
    "print(res.estimate_confidence_intervals(\n",
    "    which = 'net',   # which = \"total\" for total fluxes\n",
    "    confidence_level = 0.95\n",
    ")) "
   ]
  },
  {
   "cell_type": "code",
   "execution_count": 18,
   "metadata": {},
   "outputs": [
    {
     "name": "stdout",
     "output_type": "stream",
     "text": [
      "AKG: [0.0, 1.277]\n",
      "Cit: [0.001, 5.554]\n",
      "Fum: [0.0, 1.23]\n",
      "Glu: [0.0, 3.375]\n",
      "OAA: [0.001, 2.916]\n",
      "Suc: [0.0, 2.489]\n"
     ]
    }
   ],
   "source": [
    "print(res.estimate_confidence_intervals(which = 'conc', confidence_level = 0.95))"
   ]
  },
  {
   "cell_type": "markdown",
   "metadata": {},
   "source": [
    "For a more complex example of flux estimation with CIs of a *Synechocystis* model, please refer to the script \"[tutorial_synechocystis_inst_estimation.py](https://github.com/Chaowu88/freeflux/tree/main/tutorials)\""
   ]
  }
 ],
 "metadata": {
  "kernelspec": {
   "display_name": "Python [conda env:freeflux-py37]",
   "language": "python",
   "name": "conda-env-freeflux-py37-py"
  },
  "language_info": {
   "codemirror_mode": {
    "name": "ipython",
    "version": 3
   },
   "file_extension": ".py",
   "mimetype": "text/x-python",
   "name": "python",
   "nbconvert_exporter": "python",
   "pygments_lexer": "ipython3",
   "version": "3.7.0"
  }
 },
 "nbformat": 4,
 "nbformat_minor": 4
}
